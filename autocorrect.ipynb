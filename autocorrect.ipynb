{
 "cells": [
  {
   "cell_type": "markdown",
   "id": "d9d87570",
   "metadata": {},
   "source": [
    "BHARAT INTERN AI TASK AUTOCORRECT TOOL"
   ]
  },
  {
   "cell_type": "code",
   "execution_count": 20,
   "id": "aee80de9",
   "metadata": {},
   "outputs": [
    {
     "name": "stdout",
     "output_type": "stream",
     "text": [
      "Requirement already satisfied: pyspellchecker in c:\\users\\sinha\\anaconda3\\lib\\site-packages (0.7.2)\n"
     ]
    },
    {
     "name": "stderr",
     "output_type": "stream",
     "text": [
      "\n",
      "[notice] A new release of pip is available: 23.2 -> 23.2.1\n",
      "[notice] To update, run: python.exe -m pip install --upgrade pip\n"
     ]
    }
   ],
   "source": [
    "!pip install pyspellchecker"
   ]
  },
  {
   "cell_type": "code",
   "execution_count": 21,
   "id": "ffe714e9",
   "metadata": {},
   "outputs": [],
   "source": [
    "from spellchecker import SpellChecker"
   ]
  },
  {
   "cell_type": "code",
   "execution_count": 22,
   "id": "209edcaf",
   "metadata": {},
   "outputs": [],
   "source": [
    "spell = SpellChecker()"
   ]
  },
  {
   "cell_type": "code",
   "execution_count": 23,
   "id": "d87dd4de",
   "metadata": {},
   "outputs": [],
   "source": [
    "misspelled = spell.unknown(['Welcom', 'to','AI','Sciences'])\n",
    "all_words = ['Welcome','to','AI','Sciences']"
   ]
  },
  {
   "cell_type": "code",
   "execution_count": 24,
   "id": "a706ca35",
   "metadata": {},
   "outputs": [
    {
     "data": {
      "text/plain": [
       "{'welcom'}"
      ]
     },
     "execution_count": 24,
     "metadata": {},
     "output_type": "execute_result"
    }
   ],
   "source": [
    "misspelled"
   ]
  },
  {
   "cell_type": "code",
   "execution_count": 25,
   "id": "18148518",
   "metadata": {},
   "outputs": [
    {
     "name": "stdout",
     "output_type": "stream",
     "text": [
      "welcome\n"
     ]
    }
   ],
   "source": [
    "for word in misspelled:\n",
    "  print(spell.correction(word))"
   ]
  },
  {
   "cell_type": "code",
   "execution_count": null,
   "id": "c59a7373",
   "metadata": {},
   "outputs": [
    {
     "name": "stdout",
     "output_type": "stream",
     "text": [
      "Enter the word:heloo\n",
      " The Best Suggestion for 'heloo' is 'hello'\n",
      "Enter the word:helop\n",
      " The Best Suggestion for 'helop' is 'help'\n",
      "Enter the word:entertinment\n",
      " The Best Suggestion for 'entertinment' is 'entertainment'\n"
     ]
    }
   ],
   "source": [
    "while True:\n",
    "  word = input(\"Enter the word:\")\n",
    "  if word in spell:\n",
    "    print(\"'{}' is spelled correctly\".format(word))\n",
    "  else:\n",
    "    correct_word = spell.correction(word)\n",
    "    print(\" The Best Suggestion for '{}' is '{}'\" .format(word,correct_word))"
   ]
  }
 ],
 "metadata": {
  "kernelspec": {
   "display_name": "Python 3 (ipykernel)",
   "language": "python",
   "name": "python3"
  },
  "language_info": {
   "codemirror_mode": {
    "name": "ipython",
    "version": 3
   },
   "file_extension": ".py",
   "mimetype": "text/x-python",
   "name": "python",
   "nbconvert_exporter": "python",
   "pygments_lexer": "ipython3",
   "version": "3.11.3"
  }
 },
 "nbformat": 4,
 "nbformat_minor": 5
}
